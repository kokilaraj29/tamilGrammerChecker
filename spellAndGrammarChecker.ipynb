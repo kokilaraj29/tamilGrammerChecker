{
 "cells": [
  {
   "cell_type": "code",
   "execution_count": 4,
   "metadata": {},
   "outputs": [
    {
     "name": "stdout",
     "output_type": "stream",
     "text": [
      "Suggestions for 'காலம': காதல், காலம்\n"
     ]
    }
   ],
   "source": [
    "from difflib import get_close_matches\n",
    "\n",
    "def phonetic_encode(word):\n",
    "\n",
    "    replacements = {\n",
    "        'அ': 'a', 'ஆ': 'aa', 'இ': 'i', 'ஈ': 'ii', 'உ': 'u', 'ஊ': 'uu',\n",
    "        'எ': 'e', 'ஏ': 'ee', 'ஐ': 'ai', 'ஒ': 'o', 'ஓ': 'oo', 'ஔ': 'au',\n",
    "        'க': 'k', 'ச': 's', 'ட': 't', 'த': 'th', 'ப': 'p', 'ற': 'r',\n",
    "        'ன': 'n', 'ந': 'n', 'ம': 'm', 'ய': 'y', 'ர': 'r', 'ல': 'l',\n",
    "        'வ': 'v', 'ழ': 'zh', 'ள': 'l', 'ஜ': 'j', 'ஷ': 'sh', 'ஸ': 's', 'ஹ': 'h'\n",
    "    }\n",
    "\n",
    "    encoded_word = \"\"\n",
    "    for char in word:\n",
    "        encoded_word += replacements.get(char, char)\n",
    "\n",
    "    return encoded_word\n",
    "\n",
    "def spell_checker(input_word, tamil_dictionary):\n",
    "\n",
    "    input_encoded = phonetic_encode(input_word)\n",
    "    dictionary_encoded = {word: phonetic_encode(word) for word in tamil_dictionary}\n",
    "\n",
    "    closest_matches = get_close_matches(input_encoded, dictionary_encoded.values(), n=3, cutoff=0.6)\n",
    "    \n",
    "    suggestions = [\n",
    "        word for word, encoded in dictionary_encoded.items() if encoded in closest_matches\n",
    "    ]\n",
    "\n",
    "    return suggestions\n",
    "\n",
    "if __name__ == \"__main__\":\n",
    "    tamil_dictionary = [\n",
    "        \"காத்து\", \"காதல்\", \"காலம்\", \"மலர்\", \"மழை\", \"வானம்\", \"நதி\"\n",
    "    ]\n",
    "\n",
    "    input_word = \"காலம\"\n",
    "\n",
    "    suggestions = spell_checker(input_word, tamil_dictionary)\n",
    "\n",
    "    if suggestions:\n",
    "        print(f\"Suggestions for '{input_word}': {', '.join(suggestions)}\")\n",
    "    else:\n",
    "        print(f\"No suggestions found for '{input_word}'.\")\n"
   ]
  },
  {
   "cell_type": "code",
   "execution_count": null,
   "metadata": {},
   "outputs": [],
   "source": []
  }
 ],
 "metadata": {
  "kernelspec": {
   "display_name": ".venv",
   "language": "python",
   "name": "python3"
  },
  "language_info": {
   "codemirror_mode": {
    "name": "ipython",
    "version": 3
   },
   "file_extension": ".py",
   "mimetype": "text/x-python",
   "name": "python",
   "nbconvert_exporter": "python",
   "pygments_lexer": "ipython3",
   "version": "3.13.1"
  }
 },
 "nbformat": 4,
 "nbformat_minor": 2
}
